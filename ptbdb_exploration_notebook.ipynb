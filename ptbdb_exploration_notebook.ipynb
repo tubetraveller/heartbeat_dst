{
 "cells": [
  {
   "cell_type": "code",
   "execution_count": null,
   "metadata": {},
   "outputs": [],
   "source": [
    "# Load packages and DF\n",
    "%matplotlib inline\n",
    "import pandas as pd\n",
    "import numpy as np\n",
    "import matplotlib.pyplot as plt\n",
    "import seaborn as sns\n",
    "\n",
    "ptbdb_abnormal_df = pd.read_csv(\"ptbdb_abnormal.csv\")\n",
    "ptbdb_normal_df = pd.read_csv(\"ptbdb_normal.csv\")"
   ]
  },
  {
   "cell_type": "code",
   "execution_count": null,
   "metadata": {},
   "outputs": [],
   "source": [
    "# PTBDB Normal\n",
    "new_column_names = range(1, len(ptbdb_normal_df.columns) + 1)\n",
    "ptbdb_normal_df.columns = new_column_names\n",
    "#ptbdb_normal_df.head()\n",
    "ptbdb_normal_df[188].describe()"
   ]
  },
  {
   "cell_type": "code",
   "execution_count": null,
   "metadata": {},
   "outputs": [],
   "source": [
    "# PTBDB Abnormal\n",
    "new_column_names = range(1, len(ptbdb_abnormal_df.columns) + 1)\n",
    "ptbdb_abnormal_df.columns = new_column_names\n",
    "#ptbdb_abnormal_df.head()\n",
    "ptbdb_abnormal_df[188].describe()\n",
    "#ptbdb_abnormal_df.isna().sum().sum()"
   ]
  },
  {
   "cell_type": "code",
   "execution_count": null,
   "metadata": {},
   "outputs": [],
   "source": [
    "# PTBDB Verteilung Spalte 1\n",
    "plt.figure(figsize=(10, 6))\n",
    "\n",
    "plt.subplot(1, 2, 1)\n",
    "plt.hist(ptbdb_abnormal_df.iloc[:, 0], bins=50, alpha=0.7, label='Abnormal')\n",
    "plt.title('Distribution of First Column - PBTBDB_Abnormal')\n",
    "plt.xlabel('Value')\n",
    "plt.ylabel('Frequency')\n",
    "plt.legend()\n",
    "\n",
    "plt.subplot(1, 2, 2)\n",
    "plt.hist(ptbdb_normal_df.iloc[:, 0], bins=50, alpha=0.7, label='Normal')\n",
    "plt.title('Distribution of First Column - PTBDB_Normal')\n",
    "plt.xlabel('Value')\n",
    "plt.ylabel('Frequency')\n",
    "plt.legend()\n",
    "\n",
    "plt.tight_layout()\n",
    "plt.show()"
   ]
  },
  {
   "cell_type": "code",
   "execution_count": null,
   "metadata": {},
   "outputs": [],
   "source": [
    "ptbdb_comb = pd.concat([ptbdb_normal_df, ptbdb_abnormal_df], ignore_index=True)\n",
    "ptbdb_comb[1].value_counts()"
   ]
  },
  {
   "cell_type": "code",
   "execution_count": null,
   "metadata": {},
   "outputs": [],
   "source": [
    "# Grafic representation of the Categories - ptbdb_comb\n",
    "# Group by the category in the column named '188'\n",
    "grouped = ptbdb_comb.groupby(188)\n",
    "# Calculate the mean for each category across the 187 columns\n",
    "means = grouped.mean()\n",
    "colors = ['#377eb8', '#ff7f00', '#4daf4a', '#f781bf', '#a65628']\n",
    "# Plot the means for each category\n",
    "plt.figure(figsize=(10, 6))\n",
    "for i, category in enumerate(means.index):\n",
    "    plt.plot(range(1, 188), means.loc[category], label=f'Category {category}', color=colors[i])\n",
    "plt.xlabel('Data Points')\n",
    "plt.ylabel('Mean Values')\n",
    "plt.title('Mean EKG Data by Category - ptbdb_abnormal')\n",
    "plt.legend()\n",
    "plt.grid(True)\n",
    "plt.show()"
   ]
  }
 ],
 "metadata": {
  "language_info": {
   "name": "python"
  }
 },
 "nbformat": 4,
 "nbformat_minor": 2
}
